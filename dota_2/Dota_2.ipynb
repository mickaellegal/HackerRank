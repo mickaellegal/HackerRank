{
 "metadata": {
  "name": ""
 },
 "nbformat": 3,
 "nbformat_minor": 0,
 "worksheets": [
  {
   "cells": [
    {
     "cell_type": "code",
     "collapsed": false,
     "input": [
      "# Importing the libraries\n",
      "import pandas as pd\n",
      "import numpy as np\n",
      "\n",
      "from sklearn.cross_validation import train_test_split\n",
      "from sklearn.ensemble import RandomForestClassifier\n",
      "from sklearn.neighbors import KNeighborsClassifier\n",
      "from sklearn.svm import SVC\n",
      "\n",
      "from collections import Counter\n",
      "from collections import defaultdict\n",
      "import operator"
     ],
     "language": "python",
     "metadata": {},
     "outputs": [],
     "prompt_number": 75
    },
    {
     "cell_type": "code",
     "collapsed": false,
     "input": [
      "data = pd.read_csv('Data/trainingdata.txt', header=None)\n",
      "\n",
      "data.columns = ['team1_hero1',\"team1_hero2\", \"team1_hero3\", \"team1_hero4\", \"team1_hero5\", \"team2_hero1\", \"team2_hero2\",\"team2_hero3\", \"team2_hero4\", \"team2_hero5\", \"Winning_team\"]\n",
      "\n",
      "labels = data.Winning_team"
     ],
     "language": "python",
     "metadata": {},
     "outputs": [],
     "prompt_number": 7
    },
    {
     "cell_type": "code",
     "collapsed": false,
     "input": [
      "data.head(10)"
     ],
     "language": "python",
     "metadata": {},
     "outputs": [
      {
       "output_type": "stream",
       "stream": "stderr",
       "text": [
        "/Users/mickaellegal/Documents/VirtualEnv/ENV/lib/python2.7/site-packages/pandas/core/config.py:570: DeprecationWarning: height has been deprecated.\n",
        "\n",
        "  warnings.warn(d.msg, DeprecationWarning)\n",
        "/Users/mickaellegal/Documents/VirtualEnv/ENV/lib/python2.7/site-packages/pandas/core/config.py:570: DeprecationWarning: height has been deprecated.\n",
        "\n",
        "  warnings.warn(d.msg, DeprecationWarning)\n",
        "/Users/mickaellegal/Documents/VirtualEnv/ENV/lib/python2.7/site-packages/pandas/core/config.py:570: DeprecationWarning: height has been deprecated.\n",
        "\n",
        "  warnings.warn(d.msg, DeprecationWarning)\n"
       ]
      },
      {
       "html": [
        "<div style=\"max-height:1000px;max-width:1500px;overflow:auto;\">\n",
        "<table border=\"1\" class=\"dataframe\">\n",
        "  <thead>\n",
        "    <tr style=\"text-align: right;\">\n",
        "      <th></th>\n",
        "      <th>team1_hero1</th>\n",
        "      <th>team1_hero2</th>\n",
        "      <th>team1_hero3</th>\n",
        "      <th>team1_hero4</th>\n",
        "      <th>team1_hero5</th>\n",
        "      <th>team2_hero1</th>\n",
        "      <th>team2_hero2</th>\n",
        "      <th>team2_hero3</th>\n",
        "      <th>team2_hero4</th>\n",
        "      <th>team2_hero5</th>\n",
        "      <th>Winning_team</th>\n",
        "    </tr>\n",
        "  </thead>\n",
        "  <tbody>\n",
        "    <tr>\n",
        "      <th>0</th>\n",
        "      <td>       Sven</td>\n",
        "      <td>        Lone Druid</td>\n",
        "      <td>       Venomancer</td>\n",
        "      <td>      Clockwerk</td>\n",
        "      <td>       Shadow Shaman</td>\n",
        "      <td>       Invoker</td>\n",
        "      <td> Gyrocopter</td>\n",
        "      <td>     Anti-Mage</td>\n",
        "      <td>     Alchemist</td>\n",
        "      <td>         Slark</td>\n",
        "      <td> 2</td>\n",
        "    </tr>\n",
        "    <tr>\n",
        "      <th>1</th>\n",
        "      <td>       Riki</td>\n",
        "      <td>            Tinker</td>\n",
        "      <td>             Puck</td>\n",
        "      <td>        Leshrac</td>\n",
        "      <td>        Nyx Assassin</td>\n",
        "      <td>       Slardar</td>\n",
        "      <td>  Sand King</td>\n",
        "      <td>       Spectre</td>\n",
        "      <td>     Necrolyte</td>\n",
        "      <td>       Warlock</td>\n",
        "      <td> 1</td>\n",
        "    </tr>\n",
        "    <tr>\n",
        "      <th>2</th>\n",
        "      <td>    Invoker</td>\n",
        "      <td>            Mirana</td>\n",
        "      <td>            Pudge</td>\n",
        "      <td>         Magnus</td>\n",
        "      <td> Keeper of the Light</td>\n",
        "      <td>        Rubick</td>\n",
        "      <td> Tidehunter</td>\n",
        "      <td> Queen of Pain</td>\n",
        "      <td> Faceless Void</td>\n",
        "      <td>        Sniper</td>\n",
        "      <td> 2</td>\n",
        "    </tr>\n",
        "    <tr>\n",
        "      <th>3</th>\n",
        "      <td>       Riki</td>\n",
        "      <td> Centaur Warrunner</td>\n",
        "      <td> Treant Protector</td>\n",
        "      <td>  Queen of Pain</td>\n",
        "      <td>         Broodmother</td>\n",
        "      <td>        Rubick</td>\n",
        "      <td>     Weaver</td>\n",
        "      <td> Troll Warlord</td>\n",
        "      <td>     Alchemist</td>\n",
        "      <td>   Drow Ranger</td>\n",
        "      <td> 1</td>\n",
        "    </tr>\n",
        "    <tr>\n",
        "      <th>4</th>\n",
        "      <td>      Razor</td>\n",
        "      <td>            Kunkka</td>\n",
        "      <td>      Drow Ranger</td>\n",
        "      <td>        Leshrac</td>\n",
        "      <td>                Zeus</td>\n",
        "      <td>          Riki</td>\n",
        "      <td>       Bane</td>\n",
        "      <td>        Visage</td>\n",
        "      <td>       Invoker</td>\n",
        "      <td>     Timbersaw</td>\n",
        "      <td> 1</td>\n",
        "    </tr>\n",
        "    <tr>\n",
        "      <th>5</th>\n",
        "      <td>  Sand King</td>\n",
        "      <td>     Shadow Shaman</td>\n",
        "      <td>         Silencer</td>\n",
        "      <td>     Gyrocopter</td>\n",
        "      <td>               Meepo</td>\n",
        "      <td>  Nyx Assassin</td>\n",
        "      <td>      Slark</td>\n",
        "      <td>        Mirana</td>\n",
        "      <td>        Rubick</td>\n",
        "      <td> Queen of Pain</td>\n",
        "      <td> 2</td>\n",
        "    </tr>\n",
        "    <tr>\n",
        "      <th>6</th>\n",
        "      <td>  Morphling</td>\n",
        "      <td>        Omniknight</td>\n",
        "      <td>            Pudge</td>\n",
        "      <td> Crystal Maiden</td>\n",
        "      <td>               Razor</td>\n",
        "      <td> Troll Warlord</td>\n",
        "      <td> Tidehunter</td>\n",
        "      <td>          Lina</td>\n",
        "      <td>     Dark Seer</td>\n",
        "      <td>    Gyrocopter</td>\n",
        "      <td> 1</td>\n",
        "    </tr>\n",
        "    <tr>\n",
        "      <th>7</th>\n",
        "      <td> Brewmaster</td>\n",
        "      <td>           Leshrac</td>\n",
        "      <td>        Ogre Magi</td>\n",
        "      <td>         Kunkka</td>\n",
        "      <td>                Riki</td>\n",
        "      <td>     Disruptor</td>\n",
        "      <td> Juggernaut</td>\n",
        "      <td>          Tiny</td>\n",
        "      <td>        Enigma</td>\n",
        "      <td> Bounty Hunter</td>\n",
        "      <td> 1</td>\n",
        "    </tr>\n",
        "    <tr>\n",
        "      <th>8</th>\n",
        "      <td>    Slardar</td>\n",
        "      <td>       Earthshaker</td>\n",
        "      <td>          Invoker</td>\n",
        "      <td>          Slark</td>\n",
        "      <td>                Doom</td>\n",
        "      <td>     Necrolyte</td>\n",
        "      <td>  Timbersaw</td>\n",
        "      <td> Bounty Hunter</td>\n",
        "      <td>        Huskar</td>\n",
        "      <td>         Razor</td>\n",
        "      <td> 1</td>\n",
        "    </tr>\n",
        "    <tr>\n",
        "      <th>9</th>\n",
        "      <td>     Dazzle</td>\n",
        "      <td>        Naga Siren</td>\n",
        "      <td>        Ogre Magi</td>\n",
        "      <td>          Pudge</td>\n",
        "      <td>    Nature's Prophet</td>\n",
        "      <td>          Chen</td>\n",
        "      <td>       Puck</td>\n",
        "      <td>     Timbersaw</td>\n",
        "      <td>        Magnus</td>\n",
        "      <td>          Ursa</td>\n",
        "      <td> 2</td>\n",
        "    </tr>\n",
        "  </tbody>\n",
        "</table>\n",
        "</div>"
       ],
       "metadata": {},
       "output_type": "pyout",
       "prompt_number": 8,
       "text": [
        "  team1_hero1        team1_hero2       team1_hero3     team1_hero4  \\\n",
        "0        Sven         Lone Druid        Venomancer       Clockwerk   \n",
        "1        Riki             Tinker              Puck         Leshrac   \n",
        "2     Invoker             Mirana             Pudge          Magnus   \n",
        "3        Riki  Centaur Warrunner  Treant Protector   Queen of Pain   \n",
        "4       Razor             Kunkka       Drow Ranger         Leshrac   \n",
        "5   Sand King      Shadow Shaman          Silencer      Gyrocopter   \n",
        "6   Morphling         Omniknight             Pudge  Crystal Maiden   \n",
        "7  Brewmaster            Leshrac         Ogre Magi          Kunkka   \n",
        "8     Slardar        Earthshaker           Invoker           Slark   \n",
        "9      Dazzle         Naga Siren         Ogre Magi           Pudge   \n",
        "\n",
        "           team1_hero5    team2_hero1 team2_hero2    team2_hero3  \\\n",
        "0        Shadow Shaman        Invoker  Gyrocopter      Anti-Mage   \n",
        "1         Nyx Assassin        Slardar   Sand King        Spectre   \n",
        "2  Keeper of the Light         Rubick  Tidehunter  Queen of Pain   \n",
        "3          Broodmother         Rubick      Weaver  Troll Warlord   \n",
        "4                 Zeus           Riki        Bane         Visage   \n",
        "5                Meepo   Nyx Assassin       Slark         Mirana   \n",
        "6                Razor  Troll Warlord  Tidehunter           Lina   \n",
        "7                 Riki      Disruptor  Juggernaut           Tiny   \n",
        "8                 Doom      Necrolyte   Timbersaw  Bounty Hunter   \n",
        "9     Nature's Prophet           Chen        Puck      Timbersaw   \n",
        "\n",
        "     team2_hero4    team2_hero5  Winning_team  \n",
        "0      Alchemist          Slark             2  \n",
        "1      Necrolyte        Warlock             1  \n",
        "2  Faceless Void         Sniper             2  \n",
        "3      Alchemist    Drow Ranger             1  \n",
        "4        Invoker      Timbersaw             1  \n",
        "5         Rubick  Queen of Pain             2  \n",
        "6      Dark Seer     Gyrocopter             1  \n",
        "7         Enigma  Bounty Hunter             1  \n",
        "8         Huskar          Razor             1  \n",
        "9         Magnus           Ursa             2  "
       ]
      }
     ],
     "prompt_number": 8
    },
    {
     "cell_type": "code",
     "collapsed": false,
     "input": [
      "# Columns name list\n",
      "# col_ind =['team1_hero1',\"team1_hero2\", \"team1_hero3\", \"team1_hero4\", \"team1_hero5\", \"team2_hero1\", \"team2_hero2\",\"team2_hero3\", \"team2_hero4\", \"team2_hero5\"]\n",
      "\n",
      "# Getting the name of all the heroes\n",
      "heroes = set()\n",
      "\n",
      "for j in data['team1_hero1']:\n",
      "    heroes.add(j)\n",
      "    \n",
      "heroes_dict = defaultdict()\n",
      "\n",
      "for k,v in enumerate(heroes):\n",
      "    heroes_dict[v] = k    "
     ],
     "language": "python",
     "metadata": {},
     "outputs": [],
     "prompt_number": 9
    },
    {
     "cell_type": "code",
     "collapsed": false,
     "input": [
      "test = np.genfromtxt('Data/trainingdata.txt', delimiter=',')"
     ],
     "language": "python",
     "metadata": {},
     "outputs": [],
     "prompt_number": 55
    },
    {
     "cell_type": "code",
     "collapsed": false,
     "input": [
      "test"
     ],
     "language": "python",
     "metadata": {},
     "outputs": [
      {
       "metadata": {},
       "output_type": "pyout",
       "prompt_number": 56,
       "text": [
        "array([[ nan,  nan,  nan, ...,  nan,  nan,   2.],\n",
        "       [ nan,  nan,  nan, ...,  nan,  nan,   1.],\n",
        "       [ nan,  nan,  nan, ...,  nan,  nan,   2.],\n",
        "       ..., \n",
        "       [ nan,  nan,  nan, ...,  nan,  nan,   2.],\n",
        "       [ nan,  nan,  nan, ...,  nan,  nan,   1.],\n",
        "       [ nan,  nan,  nan, ...,  nan,  nan,   2.]])"
       ]
      }
     ],
     "prompt_number": 56
    },
    {
     "cell_type": "code",
     "collapsed": false,
     "input": [
      "# Columns name list\n",
      "col_ind =['team1_hero1',\"team1_hero2\", \"team1_hero3\", \"team1_hero4\", \"team1_hero5\", \"team2_hero1\", \"team2_hero2\",\"team2_hero3\", \"team2_hero4\", \"team2_hero5\"]\n",
      "\n",
      "data2 = pd.DataFrame(data)\n",
      "data3 = data2"
     ],
     "language": "python",
     "metadata": {},
     "outputs": [],
     "prompt_number": 47
    },
    {
     "cell_type": "code",
     "collapsed": false,
     "input": [
      "data4 = data3.replace(heroes_dict.keys(), heroes_dict.values())\n",
      "data4.head()"
     ],
     "language": "python",
     "metadata": {},
     "outputs": [
      {
       "output_type": "stream",
       "stream": "stderr",
       "text": [
        "/Users/mickaellegal/Documents/VirtualEnv/ENV/lib/python2.7/site-packages/pandas/core/config.py:570: DeprecationWarning: height has been deprecated.\n",
        "\n",
        "  warnings.warn(d.msg, DeprecationWarning)\n",
        "/Users/mickaellegal/Documents/VirtualEnv/ENV/lib/python2.7/site-packages/pandas/core/config.py:570: DeprecationWarning: height has been deprecated.\n",
        "\n",
        "  warnings.warn(d.msg, DeprecationWarning)\n",
        "/Users/mickaellegal/Documents/VirtualEnv/ENV/lib/python2.7/site-packages/pandas/core/config.py:570: DeprecationWarning: height has been deprecated.\n",
        "\n",
        "  warnings.warn(d.msg, DeprecationWarning)\n"
       ]
      },
      {
       "html": [
        "<div style=\"max-height:1000px;max-width:1500px;overflow:auto;\">\n",
        "<table border=\"1\" class=\"dataframe\">\n",
        "  <thead>\n",
        "    <tr style=\"text-align: right;\">\n",
        "      <th></th>\n",
        "      <th>team1_hero1</th>\n",
        "      <th>team1_hero2</th>\n",
        "      <th>team1_hero3</th>\n",
        "      <th>team1_hero4</th>\n",
        "      <th>team1_hero5</th>\n",
        "      <th>team2_hero1</th>\n",
        "      <th>team2_hero2</th>\n",
        "      <th>team2_hero3</th>\n",
        "      <th>team2_hero4</th>\n",
        "      <th>team2_hero5</th>\n",
        "      <th>Winning_team</th>\n",
        "    </tr>\n",
        "  </thead>\n",
        "  <tbody>\n",
        "    <tr>\n",
        "      <th>0</th>\n",
        "      <td> 58</td>\n",
        "      <td> 17</td>\n",
        "      <td>  8</td>\n",
        "      <td> 65</td>\n",
        "      <td> 73</td>\n",
        "      <td> 28</td>\n",
        "      <td> 43</td>\n",
        "      <td> 21</td>\n",
        "      <td> 38</td>\n",
        "      <td> 88</td>\n",
        "      <td> 2</td>\n",
        "    </tr>\n",
        "    <tr>\n",
        "      <th>1</th>\n",
        "      <td> 27</td>\n",
        "      <td>  9</td>\n",
        "      <td> 69</td>\n",
        "      <td> 31</td>\n",
        "      <td> 70</td>\n",
        "      <td> 24</td>\n",
        "      <td> 62</td>\n",
        "      <td> 85</td>\n",
        "      <td> 51</td>\n",
        "      <td> 55</td>\n",
        "      <td> 1</td>\n",
        "    </tr>\n",
        "    <tr>\n",
        "      <th>2</th>\n",
        "      <td> 28</td>\n",
        "      <td> 15</td>\n",
        "      <td> 52</td>\n",
        "      <td> 50</td>\n",
        "      <td> 22</td>\n",
        "      <td> 96</td>\n",
        "      <td> 93</td>\n",
        "      <td> 76</td>\n",
        "      <td> 14</td>\n",
        "      <td> 29</td>\n",
        "      <td> 2</td>\n",
        "    </tr>\n",
        "    <tr>\n",
        "      <th>3</th>\n",
        "      <td> 27</td>\n",
        "      <td> 60</td>\n",
        "      <td> 61</td>\n",
        "      <td> 76</td>\n",
        "      <td> 34</td>\n",
        "      <td> 96</td>\n",
        "      <td> 89</td>\n",
        "      <td> 90</td>\n",
        "      <td> 38</td>\n",
        "      <td> 83</td>\n",
        "      <td> 1</td>\n",
        "    </tr>\n",
        "    <tr>\n",
        "      <th>4</th>\n",
        "      <td>  0</td>\n",
        "      <td> 87</td>\n",
        "      <td> 83</td>\n",
        "      <td> 31</td>\n",
        "      <td> 32</td>\n",
        "      <td> 27</td>\n",
        "      <td>  7</td>\n",
        "      <td> 92</td>\n",
        "      <td> 28</td>\n",
        "      <td> 75</td>\n",
        "      <td> 1</td>\n",
        "    </tr>\n",
        "  </tbody>\n",
        "</table>\n",
        "</div>"
       ],
       "metadata": {},
       "output_type": "pyout",
       "prompt_number": 50,
       "text": [
        "   team1_hero1  team1_hero2  team1_hero3  team1_hero4  team1_hero5  \\\n",
        "0           58           17            8           65           73   \n",
        "1           27            9           69           31           70   \n",
        "2           28           15           52           50           22   \n",
        "3           27           60           61           76           34   \n",
        "4            0           87           83           31           32   \n",
        "\n",
        "   team2_hero1  team2_hero2  team2_hero3  team2_hero4  team2_hero5  \\\n",
        "0           28           43           21           38           88   \n",
        "1           24           62           85           51           55   \n",
        "2           96           93           76           14           29   \n",
        "3           96           89           90           38           83   \n",
        "4           27            7           92           28           75   \n",
        "\n",
        "   Winning_team  \n",
        "0             2  \n",
        "1             1  \n",
        "2             2  \n",
        "3             1  \n",
        "4             1  "
       ]
      }
     ],
     "prompt_number": 50
    },
    {
     "cell_type": "code",
     "collapsed": false,
     "input": [
      "x_train, x_test, y_train, y_test = train_test_split(my_data4, labels, test_size=0.25)"
     ],
     "language": "python",
     "metadata": {},
     "outputs": [],
     "prompt_number": 197
    },
    {
     "cell_type": "code",
     "collapsed": false,
     "input": [
      "from sklearn.metrics import classification_report\n",
      "target_names = ['Team 1', 'Team 2']\n",
      "\n",
      "clfs =[(\"SVM\", SVC(gamma=0.001)),\n",
      "       (\"RandomForest\",RandomForestClassifier()),\n",
      "       (\"Nearest Neighbor\",KNeighborsClassifier())]\n",
      "\n",
      "for algo, clf in clfs:\n",
      "    clf.fit(x_train, y_train)\n",
      "    preds = clf.predict(x_test)\n",
      "    accuracy = np.sum(np.where(preds==y_test,1.0,0.0))/ len(y_test)\n",
      "    y_pred = np.array(preds)\n",
      "    print(classification_report(y_test, y_pred, target_names=target_names))\n",
      "    print clf, accuracy\n",
      "    "
     ],
     "language": "python",
     "metadata": {},
     "outputs": [
      {
       "output_type": "stream",
       "stream": "stdout",
       "text": [
        "             precision    recall  f1-score   support\n",
        "\n",
        "     Team 1       0.53      0.60      0.56      1958\n",
        "     Team 2       0.48      0.41      0.44      1792\n",
        "\n",
        "avg / total       0.51      0.51      0.50      3750\n",
        "\n",
        "SVC(C=1.0, cache_size=200, class_weight=None, coef0=0.0, degree=3,\n",
        "  gamma=0.001, kernel=rbf, max_iter=-1, probability=False,\n",
        "  random_state=None, shrinking=True, tol=0.001, verbose=False) 0.5088\n",
        "             precision    recall  f1-score   support\n",
        "\n",
        "     Team 1       1.00      1.00      1.00      1958\n",
        "     Team 2       1.00      1.00      1.00      1792\n",
        "\n",
        "avg / total       1.00      1.00      1.00      3750\n"
       ]
      },
      {
       "output_type": "stream",
       "stream": "stdout",
       "text": [
        "\n",
        "RandomForestClassifier(bootstrap=True, compute_importances=None,\n",
        "            criterion=gini, max_depth=None, max_features=auto,\n",
        "            min_density=None, min_samples_leaf=1, min_samples_split=2,\n",
        "            n_estimators=10, n_jobs=1, oob_score=False, random_state=None,\n",
        "            verbose=0) 1.0\n",
        "             precision    recall  f1-score   support\n",
        "\n",
        "     Team 1       0.53      0.55      0.54      1958\n",
        "     Team 2       0.49      0.47      0.48      1792\n",
        "\n",
        "avg / total       0.51      0.51      0.51      3750\n"
       ]
      },
      {
       "output_type": "stream",
       "stream": "stdout",
       "text": [
        "\n",
        "KNeighborsClassifier(algorithm=auto, leaf_size=30, metric=minkowski,\n",
        "           n_neighbors=5, p=2, weights=uniform) 0.510666666667\n"
       ]
      }
     ],
     "prompt_number": 203
    },
    {
     "cell_type": "code",
     "collapsed": false,
     "input": [
      "my_data2 = np.recfromcsv('Data/trainingdata.txt')\n",
      "\n",
      "print my_data2[-1]"
     ],
     "language": "python",
     "metadata": {},
     "outputs": [
      {
       "output_type": "stream",
       "stream": "stdout",
       "text": [
        "('Tidehunter', 'Viper', 'Treant Protector', 'Axe', 'Dazzle', 'Magnus', 'Ursa', 'Bloodseeker', 'Omniknight', 'Outworld Devourer', 2)\n"
       ]
      }
     ],
     "prompt_number": 76
    },
    {
     "cell_type": "code",
     "collapsed": false,
     "input": [
      "my_data3 = my_data2\n",
      "\n",
      "for j in xrange(len(my_data3)):\n",
      "    for i in range(10):\n",
      "       my_data3[j][i] = heroes_dict[my_data3[j][i]]"
     ],
     "language": "python",
     "metadata": {},
     "outputs": [],
     "prompt_number": 111
    },
    {
     "cell_type": "code",
     "collapsed": false,
     "input": [
      "import itertools\n",
      "list2d = [[1,2,3],[4,5,6], [7], [8,9]]\n",
      "merged = list(itertools.chain.from_iterable(list2d))"
     ],
     "language": "python",
     "metadata": {},
     "outputs": [],
     "prompt_number": 139
    },
    {
     "cell_type": "code",
     "collapsed": false,
     "input": [
      "for i in xrange(len(my_data3)):\n",
      "    my_data3[i] = np.asarray(my_data3[i])"
     ],
     "language": "python",
     "metadata": {},
     "outputs": [],
     "prompt_number": 168
    },
    {
     "cell_type": "code",
     "collapsed": false,
     "input": [
      "test = np.genfromtxt(\"Data/trainingdata.txt\", names=True, delimiter=\",\", dtype=None)"
     ],
     "language": "python",
     "metadata": {},
     "outputs": [],
     "prompt_number": 188
    },
    {
     "cell_type": "code",
     "collapsed": false,
     "input": [
      "my_data4 = np.array(my_data3.tolist())\n",
      "print my_data4.shape"
     ],
     "language": "python",
     "metadata": {},
     "outputs": [
      {
       "output_type": "stream",
       "stream": "stdout",
       "text": [
        "(14999, 11)\n"
       ]
      }
     ],
     "prompt_number": 193
    },
    {
     "cell_type": "code",
     "collapsed": false,
     "input": [
      "labels = my_data4[:, 10]"
     ],
     "language": "python",
     "metadata": {},
     "outputs": [],
     "prompt_number": 196
    },
    {
     "cell_type": "code",
     "collapsed": false,
     "input": [
      "heroes2 = set()\n",
      "\n",
      "for i in my_data4[:, 3]:\n",
      "    heroes2.add(i)"
     ],
     "language": "python",
     "metadata": {},
     "outputs": [],
     "prompt_number": 199
    },
    {
     "cell_type": "code",
     "collapsed": false,
     "input": [
      "len(my_data4)"
     ],
     "language": "python",
     "metadata": {},
     "outputs": [
      {
       "metadata": {},
       "output_type": "pyout",
       "prompt_number": 201,
       "text": [
        "14999"
       ]
      }
     ],
     "prompt_number": 201
    }
   ],
   "metadata": {}
  }
 ]
}